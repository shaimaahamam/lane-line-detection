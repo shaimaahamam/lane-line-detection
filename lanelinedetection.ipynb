{
  "cells": [
    {
      "cell_type": "code",
      "execution_count": null,
      "id": "dae18758",
      "metadata": {
        "id": "dae18758"
      },
      "outputs": [],
      "source": [
        "import numpy as np\n",
        "import cv2\n",
        "\n",
        "img = cv2.imread(\"D:\\\\education\\\\ITI\\\\laneline\\\\pic\\\\solidYellowCurve.jpg\")\n",
        "gray = cv2.cvtColor(img , cv2.COLOR_BGR2GRAY)\n",
        "\n",
        "\n",
        "kernel_size = 5\n",
        "blur_gray= cv2.GaussianBlur(gray, (kernel_size, kernel_size) , 0)\n",
        "\n",
        "def nothing (x):\n",
        "    pass\n",
        "cv2.namedWindow('image')\n",
        "\n",
        "cv2.createTrackbar('min_th', 'image', 0, 255, nothing)\n",
        "cv2.createTrackbar('max_th', 'image', 0, 255, nothing)\n",
        "\n",
        "\n",
        "while(1):\n",
        "    min_th = cv2.getTrackbarPos('min_th', 'image')\n",
        "    max_th = cv2.getTrackbarPos('max_th', 'image')\n",
        "\n",
        "    ls1 = []\n",
        "    ls2 = []\n",
        "    ls1.append(min_th)\n",
        "    ls1.append(max_th)\n",
        "\n",
        "    edge = cv2.Canny(blur_gray , min_th , max_th)\n",
        "\n",
        "    cv2.imshow('image' , edge)\n",
        "\n",
        "    k = cv2.waitKey(1)\n",
        "    if k == 27:\n",
        "        break\n",
        "\n",
        "cv2.destroyAllWindows()"
      ]
    },
    {
      "cell_type": "code",
      "execution_count": null,
      "id": "1e909330",
      "metadata": {
        "id": "1e909330"
      },
      "outputs": [],
      "source": [
        "print ( ls1)"
      ]
    },
    {
      "cell_type": "code",
      "execution_count": null,
      "id": "06dc15d3",
      "metadata": {
        "id": "06dc15d3"
      },
      "outputs": [],
      "source": [
        "import cv2\n",
        "from helpers import *\n",
        "\n",
        "img = cv2.imread(\"D:\\\\education\\\\ITI\\\\laneline\\\\pic\\\\solidYellowCurve.jpg\")\n",
        "gray = cv2.cvtColor(img , cv2.COLOR_BGR2GRAY)\n",
        "\n",
        "kernel_size = 5\n",
        "blur_gray= cv2.GaussianBlur(gray, (kernel_size, kernel_size) , 0)\n",
        "\n",
        "th1 = ls1[0]\n",
        "th2 = ls1[1]\n",
        "edges =cv2.Canny(blur_gray, th1, th2)\n",
        "\n",
        "\n",
        "ROI =helpers_masked_edges(edges)\n",
        "\n",
        "\n",
        "def nothing (x):\n",
        "    pass\n",
        "\n",
        "cv2.namedWindow('image')\n",
        "\n",
        "cv2.createTrackbar('thresh', 'image', 0, 255, nothing)\n",
        "cv2.createTrackbar('min_', 'image', 0, 255, nothing)\n",
        "cv2.createTrackbar('max_', 'image', 0, 255, nothing)\n",
        "\n",
        "\n",
        "while(1):\n",
        "\n",
        "    min_ = cv2.getTrackbarPos('min_', 'image')\n",
        "    max_ = cv2.getTrackbarPos('max_', 'image')\n",
        "    thresh = cv2.getTrackbarPos('thresh', 'image')\n",
        "\n",
        "    x = cv2.HoughLinesP(ROI, 3.5, np.pi/180 , thresh, np.array([]), minLineLength=min_, maxLineGap=max_)\n",
        "\n",
        "    lines_img = helpers_formulate_lanes(x , ROI)\n",
        "    res = helpers_draw_lines( lines_img, ROI)\n",
        "    final_image = cv2.addWeighted(img, 0.8, res, 1, 0)\n",
        "\n",
        "    cv2.imshow('image' , final_image )\n",
        "\n",
        "\n",
        "    k = cv2.waitKey(1)\n",
        "    if k == 27:\n",
        "        break\n",
        "\n",
        "cv2.destroyAllWindows()\n",
        "\n"
      ]
    },
    {
      "cell_type": "code",
      "execution_count": null,
      "id": "f0048ce3",
      "metadata": {
        "id": "f0048ce3"
      },
      "outputs": [],
      "source": []
    },
    {
      "cell_type": "code",
      "execution_count": null,
      "id": "c6cb4684",
      "metadata": {
        "id": "c6cb4684"
      },
      "outputs": [],
      "source": []
    },
    {
      "cell_type": "code",
      "execution_count": null,
      "id": "70be25fb",
      "metadata": {
        "id": "70be25fb"
      },
      "outputs": [],
      "source": []
    },
    {
      "cell_type": "code",
      "execution_count": null,
      "id": "f76f5bd8",
      "metadata": {
        "id": "f76f5bd8"
      },
      "outputs": [],
      "source": []
    },
    {
      "cell_type": "code",
      "execution_count": null,
      "id": "e8f7db7e",
      "metadata": {
        "id": "e8f7db7e"
      },
      "outputs": [],
      "source": []
    }
  ],
  "metadata": {
    "kernelspec": {
      "display_name": "Python 3 (ipykernel)",
      "language": "python",
      "name": "python3"
    },
    "language_info": {
      "codemirror_mode": {
        "name": "ipython",
        "version": 3
      },
      "file_extension": ".py",
      "mimetype": "text/x-python",
      "name": "python",
      "nbconvert_exporter": "python",
      "pygments_lexer": "ipython3",
      "version": "3.9.7"
    },
    "colab": {
      "provenance": []
    }
  },
  "nbformat": 4,
  "nbformat_minor": 5
}